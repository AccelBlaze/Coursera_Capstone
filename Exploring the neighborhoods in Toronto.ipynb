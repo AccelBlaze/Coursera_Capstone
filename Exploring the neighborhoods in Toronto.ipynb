{
 "cells": [
  {
   "cell_type": "markdown",
   "metadata": {},
   "source": [
    "Fetching & Converting table from a given link to a pandas Dataframe"
   ]
  },
  {
   "cell_type": "code",
   "execution_count": 1,
   "metadata": {},
   "outputs": [],
   "source": [
    "import pandas as pd\n",
    "import numpy as np\n",
    "import requests\n",
    "from bs4 import BeautifulSoup"
   ]
  },
  {
   "cell_type": "code",
   "execution_count": 2,
   "metadata": {},
   "outputs": [],
   "source": [
    "r  = requests.get(\"https://en.wikipedia.org/wiki/List_of_postal_codes_of_Canada:_M\")\n",
    "\n",
    "data = r.text"
   ]
  },
  {
   "cell_type": "code",
   "execution_count": 3,
   "metadata": {},
   "outputs": [],
   "source": [
    "soup = BeautifulSoup(data, 'html.parser')"
   ]
  },
  {
   "cell_type": "code",
   "execution_count": 4,
   "metadata": {},
   "outputs": [],
   "source": [
    "table_string = soup.table.prettify()"
   ]
  },
  {
   "cell_type": "code",
   "execution_count": 5,
   "metadata": {},
   "outputs": [
    {
     "data": {
      "text/plain": [
       "[    Postal Code           Borough  \\\n",
       " 0           M1A      Not assigned   \n",
       " 1           M2A      Not assigned   \n",
       " 2           M3A        North York   \n",
       " 3           M4A        North York   \n",
       " 4           M5A  Downtown Toronto   \n",
       " ..          ...               ...   \n",
       " 175         M5Z      Not assigned   \n",
       " 176         M6Z      Not assigned   \n",
       " 177         M7Z      Not assigned   \n",
       " 178         M8Z         Etobicoke   \n",
       " 179         M9Z      Not assigned   \n",
       " \n",
       "                                           Neighborhood  \n",
       " 0                                                  NaN  \n",
       " 1                                                  NaN  \n",
       " 2                                            Parkwoods  \n",
       " 3                                     Victoria Village  \n",
       " 4                            Regent Park, Harbourfront  \n",
       " ..                                                 ...  \n",
       " 175                                                NaN  \n",
       " 176                                                NaN  \n",
       " 177                                                NaN  \n",
       " 178  Mimico NW, The Queensway West, South of Bloor,...  \n",
       " 179                                                NaN  \n",
       " \n",
       " [180 rows x 3 columns]]"
      ]
     },
     "execution_count": 5,
     "metadata": {},
     "output_type": "execute_result"
    }
   ],
   "source": [
    "table_list = pd.read_html(table_string)\n",
    "table_list"
   ]
  },
  {
   "cell_type": "code",
   "execution_count": 6,
   "metadata": {},
   "outputs": [
    {
     "data": {
      "text/html": [
       "<div>\n",
       "<style scoped>\n",
       "    .dataframe tbody tr th:only-of-type {\n",
       "        vertical-align: middle;\n",
       "    }\n",
       "\n",
       "    .dataframe tbody tr th {\n",
       "        vertical-align: top;\n",
       "    }\n",
       "\n",
       "    .dataframe thead th {\n",
       "        text-align: right;\n",
       "    }\n",
       "</style>\n",
       "<table border=\"1\" class=\"dataframe\">\n",
       "  <thead>\n",
       "    <tr style=\"text-align: right;\">\n",
       "      <th></th>\n",
       "      <th>Postal Code</th>\n",
       "      <th>Borough</th>\n",
       "      <th>Neighborhood</th>\n",
       "    </tr>\n",
       "  </thead>\n",
       "  <tbody>\n",
       "    <tr>\n",
       "      <th>0</th>\n",
       "      <td>M1A</td>\n",
       "      <td>Not assigned</td>\n",
       "      <td>NaN</td>\n",
       "    </tr>\n",
       "    <tr>\n",
       "      <th>1</th>\n",
       "      <td>M2A</td>\n",
       "      <td>Not assigned</td>\n",
       "      <td>NaN</td>\n",
       "    </tr>\n",
       "    <tr>\n",
       "      <th>2</th>\n",
       "      <td>M3A</td>\n",
       "      <td>North York</td>\n",
       "      <td>Parkwoods</td>\n",
       "    </tr>\n",
       "    <tr>\n",
       "      <th>3</th>\n",
       "      <td>M4A</td>\n",
       "      <td>North York</td>\n",
       "      <td>Victoria Village</td>\n",
       "    </tr>\n",
       "    <tr>\n",
       "      <th>4</th>\n",
       "      <td>M5A</td>\n",
       "      <td>Downtown Toronto</td>\n",
       "      <td>Regent Park, Harbourfront</td>\n",
       "    </tr>\n",
       "    <tr>\n",
       "      <th>...</th>\n",
       "      <td>...</td>\n",
       "      <td>...</td>\n",
       "      <td>...</td>\n",
       "    </tr>\n",
       "    <tr>\n",
       "      <th>175</th>\n",
       "      <td>M5Z</td>\n",
       "      <td>Not assigned</td>\n",
       "      <td>NaN</td>\n",
       "    </tr>\n",
       "    <tr>\n",
       "      <th>176</th>\n",
       "      <td>M6Z</td>\n",
       "      <td>Not assigned</td>\n",
       "      <td>NaN</td>\n",
       "    </tr>\n",
       "    <tr>\n",
       "      <th>177</th>\n",
       "      <td>M7Z</td>\n",
       "      <td>Not assigned</td>\n",
       "      <td>NaN</td>\n",
       "    </tr>\n",
       "    <tr>\n",
       "      <th>178</th>\n",
       "      <td>M8Z</td>\n",
       "      <td>Etobicoke</td>\n",
       "      <td>Mimico NW, The Queensway West, South of Bloor,...</td>\n",
       "    </tr>\n",
       "    <tr>\n",
       "      <th>179</th>\n",
       "      <td>M9Z</td>\n",
       "      <td>Not assigned</td>\n",
       "      <td>NaN</td>\n",
       "    </tr>\n",
       "  </tbody>\n",
       "</table>\n",
       "<p>180 rows × 3 columns</p>\n",
       "</div>"
      ],
      "text/plain": [
       "    Postal Code           Borough  \\\n",
       "0           M1A      Not assigned   \n",
       "1           M2A      Not assigned   \n",
       "2           M3A        North York   \n",
       "3           M4A        North York   \n",
       "4           M5A  Downtown Toronto   \n",
       "..          ...               ...   \n",
       "175         M5Z      Not assigned   \n",
       "176         M6Z      Not assigned   \n",
       "177         M7Z      Not assigned   \n",
       "178         M8Z         Etobicoke   \n",
       "179         M9Z      Not assigned   \n",
       "\n",
       "                                          Neighborhood  \n",
       "0                                                  NaN  \n",
       "1                                                  NaN  \n",
       "2                                            Parkwoods  \n",
       "3                                     Victoria Village  \n",
       "4                            Regent Park, Harbourfront  \n",
       "..                                                 ...  \n",
       "175                                                NaN  \n",
       "176                                                NaN  \n",
       "177                                                NaN  \n",
       "178  Mimico NW, The Queensway West, South of Bloor,...  \n",
       "179                                                NaN  \n",
       "\n",
       "[180 rows x 3 columns]"
      ]
     },
     "execution_count": 6,
     "metadata": {},
     "output_type": "execute_result"
    }
   ],
   "source": [
    "df_table = table_list[0]\n",
    "df_table"
   ]
  },
  {
   "cell_type": "code",
   "execution_count": 7,
   "metadata": {},
   "outputs": [],
   "source": [
    "df_table.drop(df_table.loc[df_table['Borough']=='Not assigned'].index, inplace=True)"
   ]
  },
  {
   "cell_type": "code",
   "execution_count": 8,
   "metadata": {},
   "outputs": [
    {
     "data": {
      "text/html": [
       "<div>\n",
       "<style scoped>\n",
       "    .dataframe tbody tr th:only-of-type {\n",
       "        vertical-align: middle;\n",
       "    }\n",
       "\n",
       "    .dataframe tbody tr th {\n",
       "        vertical-align: top;\n",
       "    }\n",
       "\n",
       "    .dataframe thead th {\n",
       "        text-align: right;\n",
       "    }\n",
       "</style>\n",
       "<table border=\"1\" class=\"dataframe\">\n",
       "  <thead>\n",
       "    <tr style=\"text-align: right;\">\n",
       "      <th></th>\n",
       "      <th>Postal Code</th>\n",
       "      <th>Borough</th>\n",
       "      <th>Neighborhood</th>\n",
       "    </tr>\n",
       "  </thead>\n",
       "  <tbody>\n",
       "    <tr>\n",
       "      <th>0</th>\n",
       "      <td>M3A</td>\n",
       "      <td>North York</td>\n",
       "      <td>Parkwoods</td>\n",
       "    </tr>\n",
       "    <tr>\n",
       "      <th>1</th>\n",
       "      <td>M4A</td>\n",
       "      <td>North York</td>\n",
       "      <td>Victoria Village</td>\n",
       "    </tr>\n",
       "    <tr>\n",
       "      <th>2</th>\n",
       "      <td>M5A</td>\n",
       "      <td>Downtown Toronto</td>\n",
       "      <td>Regent Park, Harbourfront</td>\n",
       "    </tr>\n",
       "    <tr>\n",
       "      <th>3</th>\n",
       "      <td>M6A</td>\n",
       "      <td>North York</td>\n",
       "      <td>Lawrence Manor, Lawrence Heights</td>\n",
       "    </tr>\n",
       "    <tr>\n",
       "      <th>4</th>\n",
       "      <td>M7A</td>\n",
       "      <td>Downtown Toronto</td>\n",
       "      <td>Queen's Park, Ontario Provincial Government</td>\n",
       "    </tr>\n",
       "    <tr>\n",
       "      <th>...</th>\n",
       "      <td>...</td>\n",
       "      <td>...</td>\n",
       "      <td>...</td>\n",
       "    </tr>\n",
       "    <tr>\n",
       "      <th>98</th>\n",
       "      <td>M8X</td>\n",
       "      <td>Etobicoke</td>\n",
       "      <td>The Kingsway, Montgomery Road, Old Mill North</td>\n",
       "    </tr>\n",
       "    <tr>\n",
       "      <th>99</th>\n",
       "      <td>M4Y</td>\n",
       "      <td>Downtown Toronto</td>\n",
       "      <td>Church and Wellesley</td>\n",
       "    </tr>\n",
       "    <tr>\n",
       "      <th>100</th>\n",
       "      <td>M7Y</td>\n",
       "      <td>East Toronto</td>\n",
       "      <td>Business reply mail Processing Centre</td>\n",
       "    </tr>\n",
       "    <tr>\n",
       "      <th>101</th>\n",
       "      <td>M8Y</td>\n",
       "      <td>Etobicoke</td>\n",
       "      <td>Old Mill South, King's Mill Park, Sunnylea, Hu...</td>\n",
       "    </tr>\n",
       "    <tr>\n",
       "      <th>102</th>\n",
       "      <td>M8Z</td>\n",
       "      <td>Etobicoke</td>\n",
       "      <td>Mimico NW, The Queensway West, South of Bloor,...</td>\n",
       "    </tr>\n",
       "  </tbody>\n",
       "</table>\n",
       "<p>103 rows × 3 columns</p>\n",
       "</div>"
      ],
      "text/plain": [
       "    Postal Code           Borough  \\\n",
       "0           M3A        North York   \n",
       "1           M4A        North York   \n",
       "2           M5A  Downtown Toronto   \n",
       "3           M6A        North York   \n",
       "4           M7A  Downtown Toronto   \n",
       "..          ...               ...   \n",
       "98          M8X         Etobicoke   \n",
       "99          M4Y  Downtown Toronto   \n",
       "100         M7Y      East Toronto   \n",
       "101         M8Y         Etobicoke   \n",
       "102         M8Z         Etobicoke   \n",
       "\n",
       "                                          Neighborhood  \n",
       "0                                            Parkwoods  \n",
       "1                                     Victoria Village  \n",
       "2                            Regent Park, Harbourfront  \n",
       "3                     Lawrence Manor, Lawrence Heights  \n",
       "4          Queen's Park, Ontario Provincial Government  \n",
       "..                                                 ...  \n",
       "98       The Kingsway, Montgomery Road, Old Mill North  \n",
       "99                                Church and Wellesley  \n",
       "100              Business reply mail Processing Centre  \n",
       "101  Old Mill South, King's Mill Park, Sunnylea, Hu...  \n",
       "102  Mimico NW, The Queensway West, South of Bloor,...  \n",
       "\n",
       "[103 rows x 3 columns]"
      ]
     },
     "execution_count": 8,
     "metadata": {},
     "output_type": "execute_result"
    }
   ],
   "source": [
    "df_table.index = [x for x in range(df_table.shape[0])]\n",
    "df_table"
   ]
  },
  {
   "cell_type": "code",
   "execution_count": 10,
   "metadata": {},
   "outputs": [
    {
     "data": {
      "text/plain": [
       "'103 rows'"
      ]
     },
     "execution_count": 10,
     "metadata": {},
     "output_type": "execute_result"
    }
   ],
   "source": [
    "str(df_table.shape[0])+' rows'"
   ]
  },
  {
   "cell_type": "markdown",
   "metadata": {},
   "source": [
    "#######################################################################"
   ]
  },
  {
   "cell_type": "markdown",
   "metadata": {},
   "source": [
    "Adding the columns of Latitude and Longitude"
   ]
  },
  {
   "cell_type": "markdown",
   "metadata": {},
   "source": [
    "##################################################################"
   ]
  },
  {
   "cell_type": "code",
   "execution_count": 11,
   "metadata": {},
   "outputs": [],
   "source": [
    "coordinates = pd.read_csv('http://cocl.us/Geospatial_data')"
   ]
  },
  {
   "cell_type": "code",
   "execution_count": 12,
   "metadata": {},
   "outputs": [
    {
     "data": {
      "text/html": [
       "<div>\n",
       "<style scoped>\n",
       "    .dataframe tbody tr th:only-of-type {\n",
       "        vertical-align: middle;\n",
       "    }\n",
       "\n",
       "    .dataframe tbody tr th {\n",
       "        vertical-align: top;\n",
       "    }\n",
       "\n",
       "    .dataframe thead th {\n",
       "        text-align: right;\n",
       "    }\n",
       "</style>\n",
       "<table border=\"1\" class=\"dataframe\">\n",
       "  <thead>\n",
       "    <tr style=\"text-align: right;\">\n",
       "      <th></th>\n",
       "      <th>Postal Code</th>\n",
       "      <th>Latitude</th>\n",
       "      <th>Longitude</th>\n",
       "    </tr>\n",
       "  </thead>\n",
       "  <tbody>\n",
       "    <tr>\n",
       "      <th>0</th>\n",
       "      <td>M1B</td>\n",
       "      <td>43.806686</td>\n",
       "      <td>-79.194353</td>\n",
       "    </tr>\n",
       "    <tr>\n",
       "      <th>1</th>\n",
       "      <td>M1C</td>\n",
       "      <td>43.784535</td>\n",
       "      <td>-79.160497</td>\n",
       "    </tr>\n",
       "    <tr>\n",
       "      <th>2</th>\n",
       "      <td>M1E</td>\n",
       "      <td>43.763573</td>\n",
       "      <td>-79.188711</td>\n",
       "    </tr>\n",
       "    <tr>\n",
       "      <th>3</th>\n",
       "      <td>M1G</td>\n",
       "      <td>43.770992</td>\n",
       "      <td>-79.216917</td>\n",
       "    </tr>\n",
       "    <tr>\n",
       "      <th>4</th>\n",
       "      <td>M1H</td>\n",
       "      <td>43.773136</td>\n",
       "      <td>-79.239476</td>\n",
       "    </tr>\n",
       "    <tr>\n",
       "      <th>...</th>\n",
       "      <td>...</td>\n",
       "      <td>...</td>\n",
       "      <td>...</td>\n",
       "    </tr>\n",
       "    <tr>\n",
       "      <th>98</th>\n",
       "      <td>M9N</td>\n",
       "      <td>43.706876</td>\n",
       "      <td>-79.518188</td>\n",
       "    </tr>\n",
       "    <tr>\n",
       "      <th>99</th>\n",
       "      <td>M9P</td>\n",
       "      <td>43.696319</td>\n",
       "      <td>-79.532242</td>\n",
       "    </tr>\n",
       "    <tr>\n",
       "      <th>100</th>\n",
       "      <td>M9R</td>\n",
       "      <td>43.688905</td>\n",
       "      <td>-79.554724</td>\n",
       "    </tr>\n",
       "    <tr>\n",
       "      <th>101</th>\n",
       "      <td>M9V</td>\n",
       "      <td>43.739416</td>\n",
       "      <td>-79.588437</td>\n",
       "    </tr>\n",
       "    <tr>\n",
       "      <th>102</th>\n",
       "      <td>M9W</td>\n",
       "      <td>43.706748</td>\n",
       "      <td>-79.594054</td>\n",
       "    </tr>\n",
       "  </tbody>\n",
       "</table>\n",
       "<p>103 rows × 3 columns</p>\n",
       "</div>"
      ],
      "text/plain": [
       "    Postal Code   Latitude  Longitude\n",
       "0           M1B  43.806686 -79.194353\n",
       "1           M1C  43.784535 -79.160497\n",
       "2           M1E  43.763573 -79.188711\n",
       "3           M1G  43.770992 -79.216917\n",
       "4           M1H  43.773136 -79.239476\n",
       "..          ...        ...        ...\n",
       "98          M9N  43.706876 -79.518188\n",
       "99          M9P  43.696319 -79.532242\n",
       "100         M9R  43.688905 -79.554724\n",
       "101         M9V  43.739416 -79.588437\n",
       "102         M9W  43.706748 -79.594054\n",
       "\n",
       "[103 rows x 3 columns]"
      ]
     },
     "execution_count": 12,
     "metadata": {},
     "output_type": "execute_result"
    }
   ],
   "source": [
    "coordinates"
   ]
  },
  {
   "cell_type": "code",
   "execution_count": 55,
   "metadata": {},
   "outputs": [],
   "source": [
    "#coordinates.loc[coordinates['Postal Code'] == 'M1B', 'Longitude'][0]\n",
    "latitudes = []\n",
    "longitudes = []\n",
    "for code in df_table['Postal Code']:\n",
    "   lat = coordinates.loc[coordinates['Postal Code'] == code, 'Latitude']\n",
    "   latitudes.append(lat[lat.index[0]])\n",
    "   lng = coordinates.loc[coordinates['Postal Code'] == code, 'Longitude']\n",
    "   longitudes.append(lng[lng.index[0]]) "
   ]
  },
  {
   "cell_type": "code",
   "execution_count": 57,
   "metadata": {},
   "outputs": [],
   "source": [
    "df_table['Latitude'] = latitudes"
   ]
  },
  {
   "cell_type": "code",
   "execution_count": 58,
   "metadata": {},
   "outputs": [],
   "source": [
    "df_table['Longitude'] = longitudes"
   ]
  },
  {
   "cell_type": "code",
   "execution_count": 61,
   "metadata": {},
   "outputs": [
    {
     "data": {
      "text/html": [
       "<div>\n",
       "<style scoped>\n",
       "    .dataframe tbody tr th:only-of-type {\n",
       "        vertical-align: middle;\n",
       "    }\n",
       "\n",
       "    .dataframe tbody tr th {\n",
       "        vertical-align: top;\n",
       "    }\n",
       "\n",
       "    .dataframe thead th {\n",
       "        text-align: right;\n",
       "    }\n",
       "</style>\n",
       "<table border=\"1\" class=\"dataframe\">\n",
       "  <thead>\n",
       "    <tr style=\"text-align: right;\">\n",
       "      <th></th>\n",
       "      <th>Postal Code</th>\n",
       "      <th>Borough</th>\n",
       "      <th>Neighborhood</th>\n",
       "      <th>Latitude</th>\n",
       "      <th>Longitude</th>\n",
       "    </tr>\n",
       "  </thead>\n",
       "  <tbody>\n",
       "    <tr>\n",
       "      <th>0</th>\n",
       "      <td>M3A</td>\n",
       "      <td>North York</td>\n",
       "      <td>Parkwoods</td>\n",
       "      <td>43.753259</td>\n",
       "      <td>-79.329656</td>\n",
       "    </tr>\n",
       "    <tr>\n",
       "      <th>1</th>\n",
       "      <td>M4A</td>\n",
       "      <td>North York</td>\n",
       "      <td>Victoria Village</td>\n",
       "      <td>43.725882</td>\n",
       "      <td>-79.315572</td>\n",
       "    </tr>\n",
       "    <tr>\n",
       "      <th>2</th>\n",
       "      <td>M5A</td>\n",
       "      <td>Downtown Toronto</td>\n",
       "      <td>Regent Park, Harbourfront</td>\n",
       "      <td>43.654260</td>\n",
       "      <td>-79.360636</td>\n",
       "    </tr>\n",
       "    <tr>\n",
       "      <th>3</th>\n",
       "      <td>M6A</td>\n",
       "      <td>North York</td>\n",
       "      <td>Lawrence Manor, Lawrence Heights</td>\n",
       "      <td>43.718518</td>\n",
       "      <td>-79.464763</td>\n",
       "    </tr>\n",
       "    <tr>\n",
       "      <th>4</th>\n",
       "      <td>M7A</td>\n",
       "      <td>Downtown Toronto</td>\n",
       "      <td>Queen's Park, Ontario Provincial Government</td>\n",
       "      <td>43.662301</td>\n",
       "      <td>-79.389494</td>\n",
       "    </tr>\n",
       "    <tr>\n",
       "      <th>...</th>\n",
       "      <td>...</td>\n",
       "      <td>...</td>\n",
       "      <td>...</td>\n",
       "      <td>...</td>\n",
       "      <td>...</td>\n",
       "    </tr>\n",
       "    <tr>\n",
       "      <th>98</th>\n",
       "      <td>M8X</td>\n",
       "      <td>Etobicoke</td>\n",
       "      <td>The Kingsway, Montgomery Road, Old Mill North</td>\n",
       "      <td>43.653654</td>\n",
       "      <td>-79.506944</td>\n",
       "    </tr>\n",
       "    <tr>\n",
       "      <th>99</th>\n",
       "      <td>M4Y</td>\n",
       "      <td>Downtown Toronto</td>\n",
       "      <td>Church and Wellesley</td>\n",
       "      <td>43.665860</td>\n",
       "      <td>-79.383160</td>\n",
       "    </tr>\n",
       "    <tr>\n",
       "      <th>100</th>\n",
       "      <td>M7Y</td>\n",
       "      <td>East Toronto</td>\n",
       "      <td>Business reply mail Processing Centre</td>\n",
       "      <td>43.662744</td>\n",
       "      <td>-79.321558</td>\n",
       "    </tr>\n",
       "    <tr>\n",
       "      <th>101</th>\n",
       "      <td>M8Y</td>\n",
       "      <td>Etobicoke</td>\n",
       "      <td>Old Mill South, King's Mill Park, Sunnylea, Hu...</td>\n",
       "      <td>43.636258</td>\n",
       "      <td>-79.498509</td>\n",
       "    </tr>\n",
       "    <tr>\n",
       "      <th>102</th>\n",
       "      <td>M8Z</td>\n",
       "      <td>Etobicoke</td>\n",
       "      <td>Mimico NW, The Queensway West, South of Bloor,...</td>\n",
       "      <td>43.628841</td>\n",
       "      <td>-79.520999</td>\n",
       "    </tr>\n",
       "  </tbody>\n",
       "</table>\n",
       "<p>103 rows × 5 columns</p>\n",
       "</div>"
      ],
      "text/plain": [
       "    Postal Code           Borough  \\\n",
       "0           M3A        North York   \n",
       "1           M4A        North York   \n",
       "2           M5A  Downtown Toronto   \n",
       "3           M6A        North York   \n",
       "4           M7A  Downtown Toronto   \n",
       "..          ...               ...   \n",
       "98          M8X         Etobicoke   \n",
       "99          M4Y  Downtown Toronto   \n",
       "100         M7Y      East Toronto   \n",
       "101         M8Y         Etobicoke   \n",
       "102         M8Z         Etobicoke   \n",
       "\n",
       "                                          Neighborhood   Latitude  Longitude  \n",
       "0                                            Parkwoods  43.753259 -79.329656  \n",
       "1                                     Victoria Village  43.725882 -79.315572  \n",
       "2                            Regent Park, Harbourfront  43.654260 -79.360636  \n",
       "3                     Lawrence Manor, Lawrence Heights  43.718518 -79.464763  \n",
       "4          Queen's Park, Ontario Provincial Government  43.662301 -79.389494  \n",
       "..                                                 ...        ...        ...  \n",
       "98       The Kingsway, Montgomery Road, Old Mill North  43.653654 -79.506944  \n",
       "99                                Church and Wellesley  43.665860 -79.383160  \n",
       "100              Business reply mail Processing Centre  43.662744 -79.321558  \n",
       "101  Old Mill South, King's Mill Park, Sunnylea, Hu...  43.636258 -79.498509  \n",
       "102  Mimico NW, The Queensway West, South of Bloor,...  43.628841 -79.520999  \n",
       "\n",
       "[103 rows x 5 columns]"
      ]
     },
     "execution_count": 61,
     "metadata": {},
     "output_type": "execute_result"
    }
   ],
   "source": [
    "df_table"
   ]
  },
  {
   "cell_type": "code",
   "execution_count": 64,
   "metadata": {},
   "outputs": [
    {
     "data": {
      "text/plain": [
       "'103 rows'"
      ]
     },
     "execution_count": 64,
     "metadata": {},
     "output_type": "execute_result"
    }
   ],
   "source": [
    "str(df_table.shape[0])+' rows'"
   ]
  },
  {
   "cell_type": "markdown",
   "metadata": {},
   "source": [
    "########################################################################"
   ]
  },
  {
   "cell_type": "markdown",
   "metadata": {},
   "source": [
    "Exploring & Clustering the neighborhoods in Toronto"
   ]
  },
  {
   "cell_type": "markdown",
   "metadata": {},
   "source": [
    "########################################################################"
   ]
  },
  {
   "cell_type": "code",
   "execution_count": 66,
   "metadata": {},
   "outputs": [
    {
     "name": "stdout",
     "output_type": "stream",
     "text": [
      "The dataframe has 10 boroughs and 103 neighborhoods.\n"
     ]
    }
   ],
   "source": [
    "print('The dataframe has {} boroughs and {} neighborhoods.'.format(\n",
    "        len(df_table['Borough'].unique()),\n",
    "        df_table.shape[0]\n",
    "    )\n",
    ")"
   ]
  },
  {
   "cell_type": "code",
   "execution_count": 68,
   "metadata": {},
   "outputs": [
    {
     "name": "stdout",
     "output_type": "stream",
     "text": [
      "The geograpical coordinate of Toronto City are 43.6534817, -79.3839347.\n"
     ]
    }
   ],
   "source": [
    "from geopy.geocoders import Nominatim\n",
    "address = 'Toronto, Ontario'\n",
    "\n",
    "geolocator = Nominatim(user_agent=\"tor_explorer\")\n",
    "location = geolocator.geocode(address)\n",
    "latitude = location.latitude\n",
    "longitude = location.longitude\n",
    "print('The geograpical coordinate of Toronto City are {}, {}.'.format(latitude, longitude))"
   ]
  },
  {
   "cell_type": "markdown",
   "metadata": {},
   "source": [
    "#### Map of Toronto with neighborhoods superimposed on top."
   ]
  },
  {
   "cell_type": "code",
   "execution_count": 69,
   "metadata": {},
   "outputs": [
    {
     "data": {
      "text/html": [
       "<div style=\"width:100%;\"><div style=\"position:relative;width:100%;height:0;padding-bottom:60%;\"><span style=\"color:#565656\">Make this Notebook Trusted to load map: File -> Trust Notebook</span><iframe src=\"about:blank\" style=\"position:absolute;width:100%;height:100%;left:0;top:0;border:none !important;\" data-html=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 onload=\"this.contentDocument.open();this.contentDocument.write(atob(this.getAttribute('data-html')));this.contentDocument.close();\" allowfullscreen webkitallowfullscreen mozallowfullscreen></iframe></div></div>"
      ],
      "text/plain": [
       "<folium.folium.Map at 0xbb1b2c8>"
      ]
     },
     "execution_count": 69,
     "metadata": {},
     "output_type": "execute_result"
    }
   ],
   "source": [
    "import folium\n",
    "# create map of New York using latitude and longitude values\n",
    "map_toronto = folium.Map(location=[latitude, longitude], zoom_start=10)\n",
    "\n",
    "# add markers to map\n",
    "for lat, lng, borough, neighborhood in zip(df_table['Latitude'], df_table['Longitude'], df_table['Borough'], df_table['Neighborhood']):\n",
    "    label = '{}, {}'.format(neighborhood, borough)\n",
    "    label = folium.Popup(label, parse_html=True)\n",
    "    folium.CircleMarker(\n",
    "        [lat, lng],\n",
    "        radius=5,\n",
    "        popup=label,\n",
    "        color='blue',\n",
    "        fill=True,\n",
    "        fill_color='#3186cc',\n",
    "        fill_opacity=0.7,\n",
    "        parse_html=False).add_to(map_toronto)  \n",
    "    \n",
    "map_toronto"
   ]
  },
  {
   "cell_type": "markdown",
   "metadata": {},
   "source": [
    "Next, we are going to start utilizing the Foursquare API to explore the neighborhoods and segment them."
   ]
  },
  {
   "cell_type": "markdown",
   "metadata": {},
   "source": [
    "#### Define Foursquare Credentials and Version"
   ]
  },
  {
   "cell_type": "code",
   "execution_count": 70,
   "metadata": {},
   "outputs": [
    {
     "name": "stdout",
     "output_type": "stream",
     "text": [
      "Your credentails:\n",
      "CLIENT_ID: I11VAB3HANLKQFXW25SCZ1N5YQEJKTOIDCLGT1VNB4GKN2NQ\n",
      "CLIENT_SECRET:MX034V5THSEG24PHY5TZAIFWZHD2I1TN3XZJAK5KX1LSOFTZ\n"
     ]
    }
   ],
   "source": [
    "CLIENT_ID = 'I11VAB3HANLKQFXW25SCZ1N5YQEJKTOIDCLGT1VNB4GKN2NQ' # your Foursquare ID\n",
    "CLIENT_SECRET = 'MX034V5THSEG24PHY5TZAIFWZHD2I1TN3XZJAK5KX1LSOFTZ' # your Foursquare Secret\n",
    "VERSION = '20180605' # Foursquare API version\n",
    "\n",
    "print('Your credentails:')\n",
    "print('CLIENT_ID: ' + CLIENT_ID)\n",
    "print('CLIENT_SECRET:' + CLIENT_SECRET)"
   ]
  },
  {
   "cell_type": "markdown",
   "metadata": {},
   "source": [
    "#### Let's explore the first neighborhood in our dataframe."
   ]
  },
  {
   "cell_type": "markdown",
   "metadata": {},
   "source": [
    "Get the neighborhood's name."
   ]
  },
  {
   "cell_type": "code",
   "execution_count": 71,
   "metadata": {},
   "outputs": [
    {
     "data": {
      "text/plain": [
       "'Parkwoods'"
      ]
     },
     "execution_count": 71,
     "metadata": {},
     "output_type": "execute_result"
    }
   ],
   "source": [
    "df_table.loc[0, 'Neighborhood']"
   ]
  },
  {
   "cell_type": "markdown",
   "metadata": {},
   "source": [
    "Get the neighborhood's latitude and longitude values."
   ]
  },
  {
   "cell_type": "code",
   "execution_count": 72,
   "metadata": {},
   "outputs": [
    {
     "name": "stdout",
     "output_type": "stream",
     "text": [
      "Latitude and longitude values of Parkwoods are 43.7532586, -79.3296565.\n"
     ]
    }
   ],
   "source": [
    "neighborhood_latitude = df_table.loc[0, 'Latitude'] # neighborhood latitude value\n",
    "neighborhood_longitude = df_table.loc[0, 'Longitude'] # neighborhood longitude value\n",
    "\n",
    "neighborhood_name = df_table.loc[0, 'Neighborhood'] # neighborhood name\n",
    "\n",
    "print('Latitude and longitude values of {} are {}, {}.'.format(neighborhood_name, \n",
    "                                                               neighborhood_latitude, \n",
    "                                                               neighborhood_longitude))"
   ]
  },
  {
   "cell_type": "markdown",
   "metadata": {},
   "source": [
    "#### Now, let's get the top 100 venues that are in Parkwoods within a radius of 500 meters."
   ]
  },
  {
   "cell_type": "markdown",
   "metadata": {},
   "source": [
    "First, let's create the GET request URL. Name your URL **url**."
   ]
  },
  {
   "cell_type": "code",
   "execution_count": 73,
   "metadata": {},
   "outputs": [
    {
     "data": {
      "text/plain": [
       "'https://api.foursquare.com/v2/venues/explore?&client_id=I11VAB3HANLKQFXW25SCZ1N5YQEJKTOIDCLGT1VNB4GKN2NQ&client_secret=MX034V5THSEG24PHY5TZAIFWZHD2I1TN3XZJAK5KX1LSOFTZ&v=20180605&ll=43.7532586,-79.3296565&radius=500&limit=100'"
      ]
     },
     "execution_count": 73,
     "metadata": {},
     "output_type": "execute_result"
    }
   ],
   "source": [
    "LIMIT = 100 # limit of number of venues returned by Foursquare API\n",
    "radius = 500 # define radius\n",
    "# create URL\n",
    "url = 'https://api.foursquare.com/v2/venues/explore?&client_id={}&client_secret={}&v={}&ll={},{}&radius={}&limit={}'.format(\n",
    "    CLIENT_ID, \n",
    "    CLIENT_SECRET, \n",
    "    VERSION, \n",
    "    neighborhood_latitude, \n",
    "    neighborhood_longitude, \n",
    "    radius, \n",
    "    LIMIT)\n",
    "url # display URL"
   ]
  },
  {
   "cell_type": "markdown",
   "metadata": {},
   "source": [
    "Send the GET request and examine the resutls"
   ]
  },
  {
   "cell_type": "code",
   "execution_count": 75,
   "metadata": {},
   "outputs": [
    {
     "data": {
      "text/plain": [
       "{'meta': {'code': 200, 'requestId': '5ec93062fb34b5001b3d5b44'},\n",
       " 'response': {'warning': {'text': \"There aren't a lot of results near you. Try something more general, reset your filters, or expand the search area.\"},\n",
       "  'headerLocation': 'Parkwoods - Donalda',\n",
       "  'headerFullLocation': 'Parkwoods - Donalda, Toronto',\n",
       "  'headerLocationGranularity': 'neighborhood',\n",
       "  'totalResults': 2,\n",
       "  'suggestedBounds': {'ne': {'lat': 43.757758604500005,\n",
       "    'lng': -79.32343823984928},\n",
       "   'sw': {'lat': 43.7487585955, 'lng': -79.33587476015072}},\n",
       "  'groups': [{'type': 'Recommended Places',\n",
       "    'name': 'recommended',\n",
       "    'items': [{'reasons': {'count': 0,\n",
       "       'items': [{'summary': 'This spot is popular',\n",
       "         'type': 'general',\n",
       "         'reasonName': 'globalInteractionReason'}]},\n",
       "      'venue': {'id': '4e8d9dcdd5fbbbb6b3003c7b',\n",
       "       'name': 'Brookbanks Park',\n",
       "       'location': {'address': 'Toronto',\n",
       "        'lat': 43.751976046055574,\n",
       "        'lng': -79.33214044722958,\n",
       "        'labeledLatLngs': [{'label': 'display',\n",
       "          'lat': 43.751976046055574,\n",
       "          'lng': -79.33214044722958}],\n",
       "        'distance': 245,\n",
       "        'cc': 'CA',\n",
       "        'city': 'Toronto',\n",
       "        'state': 'ON',\n",
       "        'country': 'Canada',\n",
       "        'formattedAddress': ['Toronto', 'Toronto ON', 'Canada']},\n",
       "       'categories': [{'id': '4bf58dd8d48988d163941735',\n",
       "         'name': 'Park',\n",
       "         'pluralName': 'Parks',\n",
       "         'shortName': 'Park',\n",
       "         'icon': {'prefix': 'https://ss3.4sqi.net/img/categories_v2/parks_outdoors/park_',\n",
       "          'suffix': '.png'},\n",
       "         'primary': True}],\n",
       "       'photos': {'count': 0, 'groups': []}},\n",
       "      'referralId': 'e-0-4e8d9dcdd5fbbbb6b3003c7b-0'},\n",
       "     {'reasons': {'count': 0,\n",
       "       'items': [{'summary': 'This spot is popular',\n",
       "         'type': 'general',\n",
       "         'reasonName': 'globalInteractionReason'}]},\n",
       "      'venue': {'id': '4cb11e2075ebb60cd1c4caad',\n",
       "       'name': 'Variety Store',\n",
       "       'location': {'address': '29 Valley Woods Road',\n",
       "        'lat': 43.75197441585782,\n",
       "        'lng': -79.33311418516017,\n",
       "        'labeledLatLngs': [{'label': 'display',\n",
       "          'lat': 43.75197441585782,\n",
       "          'lng': -79.33311418516017}],\n",
       "        'distance': 312,\n",
       "        'cc': 'CA',\n",
       "        'city': 'Toronto',\n",
       "        'state': 'ON',\n",
       "        'country': 'Canada',\n",
       "        'formattedAddress': ['29 Valley Woods Road', 'Toronto ON', 'Canada']},\n",
       "       'categories': [{'id': '4bf58dd8d48988d1f9941735',\n",
       "         'name': 'Food & Drink Shop',\n",
       "         'pluralName': 'Food & Drink Shops',\n",
       "         'shortName': 'Food & Drink',\n",
       "         'icon': {'prefix': 'https://ss3.4sqi.net/img/categories_v2/shops/foodanddrink_',\n",
       "          'suffix': '.png'},\n",
       "         'primary': True}],\n",
       "       'photos': {'count': 0, 'groups': []}},\n",
       "      'referralId': 'e-0-4cb11e2075ebb60cd1c4caad-1'}]}]}}"
      ]
     },
     "execution_count": 75,
     "metadata": {},
     "output_type": "execute_result"
    }
   ],
   "source": [
    "results = requests.get(url).json()\n",
    "results"
   ]
  },
  {
   "cell_type": "code",
   "execution_count": 76,
   "metadata": {},
   "outputs": [],
   "source": [
    "# function that extracts the category of the venue\n",
    "def get_category_type(row):\n",
    "    try:\n",
    "        categories_list = row['categories']\n",
    "    except:\n",
    "        categories_list = row['venue.categories']\n",
    "        \n",
    "    if len(categories_list) == 0:\n",
    "        return None\n",
    "    else:\n",
    "        return categories_list[0]['name']"
   ]
  },
  {
   "cell_type": "markdown",
   "metadata": {},
   "source": [
    "Now we are ready to clean the json and structure it into a *pandas* dataframe."
   ]
  },
  {
   "cell_type": "code",
   "execution_count": 77,
   "metadata": {},
   "outputs": [],
   "source": [
    "import json\n",
    "from pandas.io.json import json_normalize # tranform JSON file into a pandas dataframe"
   ]
  },
  {
   "cell_type": "code",
   "execution_count": 79,
   "metadata": {},
   "outputs": [],
   "source": [
    "venues = results['response']['groups'][0]['items']\n",
    "    \n",
    "nearby_venues = pd.json_normalize(venues) # flatten JSON"
   ]
  },
  {
   "cell_type": "code",
   "execution_count": 80,
   "metadata": {},
   "outputs": [
    {
     "data": {
      "text/html": [
       "<div>\n",
       "<style scoped>\n",
       "    .dataframe tbody tr th:only-of-type {\n",
       "        vertical-align: middle;\n",
       "    }\n",
       "\n",
       "    .dataframe tbody tr th {\n",
       "        vertical-align: top;\n",
       "    }\n",
       "\n",
       "    .dataframe thead th {\n",
       "        text-align: right;\n",
       "    }\n",
       "</style>\n",
       "<table border=\"1\" class=\"dataframe\">\n",
       "  <thead>\n",
       "    <tr style=\"text-align: right;\">\n",
       "      <th></th>\n",
       "      <th>referralId</th>\n",
       "      <th>reasons.count</th>\n",
       "      <th>reasons.items</th>\n",
       "      <th>venue.id</th>\n",
       "      <th>venue.name</th>\n",
       "      <th>venue.location.address</th>\n",
       "      <th>venue.location.lat</th>\n",
       "      <th>venue.location.lng</th>\n",
       "      <th>venue.location.labeledLatLngs</th>\n",
       "      <th>venue.location.distance</th>\n",
       "      <th>venue.location.cc</th>\n",
       "      <th>venue.location.city</th>\n",
       "      <th>venue.location.state</th>\n",
       "      <th>venue.location.country</th>\n",
       "      <th>venue.location.formattedAddress</th>\n",
       "      <th>venue.categories</th>\n",
       "      <th>venue.photos.count</th>\n",
       "      <th>venue.photos.groups</th>\n",
       "    </tr>\n",
       "  </thead>\n",
       "  <tbody>\n",
       "    <tr>\n",
       "      <th>0</th>\n",
       "      <td>e-0-4e8d9dcdd5fbbbb6b3003c7b-0</td>\n",
       "      <td>0</td>\n",
       "      <td>[{'summary': 'This spot is popular', 'type': '...</td>\n",
       "      <td>4e8d9dcdd5fbbbb6b3003c7b</td>\n",
       "      <td>Brookbanks Park</td>\n",
       "      <td>Toronto</td>\n",
       "      <td>43.751976</td>\n",
       "      <td>-79.332140</td>\n",
       "      <td>[{'label': 'display', 'lat': 43.75197604605557...</td>\n",
       "      <td>245</td>\n",
       "      <td>CA</td>\n",
       "      <td>Toronto</td>\n",
       "      <td>ON</td>\n",
       "      <td>Canada</td>\n",
       "      <td>[Toronto, Toronto ON, Canada]</td>\n",
       "      <td>[{'id': '4bf58dd8d48988d163941735', 'name': 'P...</td>\n",
       "      <td>0</td>\n",
       "      <td>[]</td>\n",
       "    </tr>\n",
       "    <tr>\n",
       "      <th>1</th>\n",
       "      <td>e-0-4cb11e2075ebb60cd1c4caad-1</td>\n",
       "      <td>0</td>\n",
       "      <td>[{'summary': 'This spot is popular', 'type': '...</td>\n",
       "      <td>4cb11e2075ebb60cd1c4caad</td>\n",
       "      <td>Variety Store</td>\n",
       "      <td>29 Valley Woods Road</td>\n",
       "      <td>43.751974</td>\n",
       "      <td>-79.333114</td>\n",
       "      <td>[{'label': 'display', 'lat': 43.75197441585782...</td>\n",
       "      <td>312</td>\n",
       "      <td>CA</td>\n",
       "      <td>Toronto</td>\n",
       "      <td>ON</td>\n",
       "      <td>Canada</td>\n",
       "      <td>[29 Valley Woods Road, Toronto ON, Canada]</td>\n",
       "      <td>[{'id': '4bf58dd8d48988d1f9941735', 'name': 'F...</td>\n",
       "      <td>0</td>\n",
       "      <td>[]</td>\n",
       "    </tr>\n",
       "  </tbody>\n",
       "</table>\n",
       "</div>"
      ],
      "text/plain": [
       "                       referralId  reasons.count  \\\n",
       "0  e-0-4e8d9dcdd5fbbbb6b3003c7b-0              0   \n",
       "1  e-0-4cb11e2075ebb60cd1c4caad-1              0   \n",
       "\n",
       "                                       reasons.items  \\\n",
       "0  [{'summary': 'This spot is popular', 'type': '...   \n",
       "1  [{'summary': 'This spot is popular', 'type': '...   \n",
       "\n",
       "                   venue.id       venue.name venue.location.address  \\\n",
       "0  4e8d9dcdd5fbbbb6b3003c7b  Brookbanks Park                Toronto   \n",
       "1  4cb11e2075ebb60cd1c4caad    Variety Store   29 Valley Woods Road   \n",
       "\n",
       "   venue.location.lat  venue.location.lng  \\\n",
       "0           43.751976          -79.332140   \n",
       "1           43.751974          -79.333114   \n",
       "\n",
       "                       venue.location.labeledLatLngs  venue.location.distance  \\\n",
       "0  [{'label': 'display', 'lat': 43.75197604605557...                      245   \n",
       "1  [{'label': 'display', 'lat': 43.75197441585782...                      312   \n",
       "\n",
       "  venue.location.cc venue.location.city venue.location.state  \\\n",
       "0                CA             Toronto                   ON   \n",
       "1                CA             Toronto                   ON   \n",
       "\n",
       "  venue.location.country             venue.location.formattedAddress  \\\n",
       "0                 Canada               [Toronto, Toronto ON, Canada]   \n",
       "1                 Canada  [29 Valley Woods Road, Toronto ON, Canada]   \n",
       "\n",
       "                                    venue.categories  venue.photos.count  \\\n",
       "0  [{'id': '4bf58dd8d48988d163941735', 'name': 'P...                   0   \n",
       "1  [{'id': '4bf58dd8d48988d1f9941735', 'name': 'F...                   0   \n",
       "\n",
       "  venue.photos.groups  \n",
       "0                  []  \n",
       "1                  []  "
      ]
     },
     "execution_count": 80,
     "metadata": {},
     "output_type": "execute_result"
    }
   ],
   "source": [
    "nearby_venues"
   ]
  },
  {
   "cell_type": "code",
   "execution_count": 81,
   "metadata": {},
   "outputs": [],
   "source": [
    "# filter columns\n",
    "filtered_columns = ['venue.name', 'venue.categories', 'venue.location.lat', 'venue.location.lng']\n",
    "nearby_venues =nearby_venues.loc[:, filtered_columns]"
   ]
  },
  {
   "cell_type": "code",
   "execution_count": 82,
   "metadata": {},
   "outputs": [
    {
     "data": {
      "text/html": [
       "<div>\n",
       "<style scoped>\n",
       "    .dataframe tbody tr th:only-of-type {\n",
       "        vertical-align: middle;\n",
       "    }\n",
       "\n",
       "    .dataframe tbody tr th {\n",
       "        vertical-align: top;\n",
       "    }\n",
       "\n",
       "    .dataframe thead th {\n",
       "        text-align: right;\n",
       "    }\n",
       "</style>\n",
       "<table border=\"1\" class=\"dataframe\">\n",
       "  <thead>\n",
       "    <tr style=\"text-align: right;\">\n",
       "      <th></th>\n",
       "      <th>venue.name</th>\n",
       "      <th>venue.categories</th>\n",
       "      <th>venue.location.lat</th>\n",
       "      <th>venue.location.lng</th>\n",
       "    </tr>\n",
       "  </thead>\n",
       "  <tbody>\n",
       "    <tr>\n",
       "      <th>0</th>\n",
       "      <td>Brookbanks Park</td>\n",
       "      <td>[{'id': '4bf58dd8d48988d163941735', 'name': 'P...</td>\n",
       "      <td>43.751976</td>\n",
       "      <td>-79.332140</td>\n",
       "    </tr>\n",
       "    <tr>\n",
       "      <th>1</th>\n",
       "      <td>Variety Store</td>\n",
       "      <td>[{'id': '4bf58dd8d48988d1f9941735', 'name': 'F...</td>\n",
       "      <td>43.751974</td>\n",
       "      <td>-79.333114</td>\n",
       "    </tr>\n",
       "  </tbody>\n",
       "</table>\n",
       "</div>"
      ],
      "text/plain": [
       "        venue.name                                   venue.categories  \\\n",
       "0  Brookbanks Park  [{'id': '4bf58dd8d48988d163941735', 'name': 'P...   \n",
       "1    Variety Store  [{'id': '4bf58dd8d48988d1f9941735', 'name': 'F...   \n",
       "\n",
       "   venue.location.lat  venue.location.lng  \n",
       "0           43.751976          -79.332140  \n",
       "1           43.751974          -79.333114  "
      ]
     },
     "execution_count": 82,
     "metadata": {},
     "output_type": "execute_result"
    }
   ],
   "source": [
    "nearby_venues"
   ]
  },
  {
   "cell_type": "code",
   "execution_count": 83,
   "metadata": {},
   "outputs": [],
   "source": [
    "# filter the category for each row\n",
    "nearby_venues['venue.categories'] = nearby_venues.apply(get_category_type, axis=1)"
   ]
  },
  {
   "cell_type": "code",
   "execution_count": 84,
   "metadata": {},
   "outputs": [
    {
     "data": {
      "text/html": [
       "<div>\n",
       "<style scoped>\n",
       "    .dataframe tbody tr th:only-of-type {\n",
       "        vertical-align: middle;\n",
       "    }\n",
       "\n",
       "    .dataframe tbody tr th {\n",
       "        vertical-align: top;\n",
       "    }\n",
       "\n",
       "    .dataframe thead th {\n",
       "        text-align: right;\n",
       "    }\n",
       "</style>\n",
       "<table border=\"1\" class=\"dataframe\">\n",
       "  <thead>\n",
       "    <tr style=\"text-align: right;\">\n",
       "      <th></th>\n",
       "      <th>venue.name</th>\n",
       "      <th>venue.categories</th>\n",
       "      <th>venue.location.lat</th>\n",
       "      <th>venue.location.lng</th>\n",
       "    </tr>\n",
       "  </thead>\n",
       "  <tbody>\n",
       "    <tr>\n",
       "      <th>0</th>\n",
       "      <td>Brookbanks Park</td>\n",
       "      <td>Park</td>\n",
       "      <td>43.751976</td>\n",
       "      <td>-79.332140</td>\n",
       "    </tr>\n",
       "    <tr>\n",
       "      <th>1</th>\n",
       "      <td>Variety Store</td>\n",
       "      <td>Food &amp; Drink Shop</td>\n",
       "      <td>43.751974</td>\n",
       "      <td>-79.333114</td>\n",
       "    </tr>\n",
       "  </tbody>\n",
       "</table>\n",
       "</div>"
      ],
      "text/plain": [
       "        venue.name   venue.categories  venue.location.lat  venue.location.lng\n",
       "0  Brookbanks Park               Park           43.751976          -79.332140\n",
       "1    Variety Store  Food & Drink Shop           43.751974          -79.333114"
      ]
     },
     "execution_count": 84,
     "metadata": {},
     "output_type": "execute_result"
    }
   ],
   "source": [
    "nearby_venues"
   ]
  },
  {
   "cell_type": "code",
   "execution_count": 85,
   "metadata": {},
   "outputs": [
    {
     "data": {
      "text/html": [
       "<div>\n",
       "<style scoped>\n",
       "    .dataframe tbody tr th:only-of-type {\n",
       "        vertical-align: middle;\n",
       "    }\n",
       "\n",
       "    .dataframe tbody tr th {\n",
       "        vertical-align: top;\n",
       "    }\n",
       "\n",
       "    .dataframe thead th {\n",
       "        text-align: right;\n",
       "    }\n",
       "</style>\n",
       "<table border=\"1\" class=\"dataframe\">\n",
       "  <thead>\n",
       "    <tr style=\"text-align: right;\">\n",
       "      <th></th>\n",
       "      <th>name</th>\n",
       "      <th>categories</th>\n",
       "      <th>lat</th>\n",
       "      <th>lng</th>\n",
       "    </tr>\n",
       "  </thead>\n",
       "  <tbody>\n",
       "    <tr>\n",
       "      <th>0</th>\n",
       "      <td>Brookbanks Park</td>\n",
       "      <td>Park</td>\n",
       "      <td>43.751976</td>\n",
       "      <td>-79.332140</td>\n",
       "    </tr>\n",
       "    <tr>\n",
       "      <th>1</th>\n",
       "      <td>Variety Store</td>\n",
       "      <td>Food &amp; Drink Shop</td>\n",
       "      <td>43.751974</td>\n",
       "      <td>-79.333114</td>\n",
       "    </tr>\n",
       "  </tbody>\n",
       "</table>\n",
       "</div>"
      ],
      "text/plain": [
       "              name         categories        lat        lng\n",
       "0  Brookbanks Park               Park  43.751976 -79.332140\n",
       "1    Variety Store  Food & Drink Shop  43.751974 -79.333114"
      ]
     },
     "execution_count": 85,
     "metadata": {},
     "output_type": "execute_result"
    }
   ],
   "source": [
    "# clean columns\n",
    "nearby_venues.columns = [col.split(\".\")[-1] for col in nearby_venues.columns]\n",
    "\n",
    "nearby_venues.head()"
   ]
  },
  {
   "cell_type": "code",
   "execution_count": 86,
   "metadata": {},
   "outputs": [
    {
     "name": "stdout",
     "output_type": "stream",
     "text": [
      "2 venues were returned by Foursquare.\n"
     ]
    }
   ],
   "source": [
    "print('{} venues were returned by Foursquare.'.format(nearby_venues.shape[0]))"
   ]
  },
  {
   "cell_type": "markdown",
   "metadata": {},
   "source": [
    "We just explored the nearby top venues of only one neighborhood i.e. Parkwoods. we can do the same for all the neighborhoods as shown:"
   ]
  },
  {
   "cell_type": "code",
   "execution_count": 94,
   "metadata": {},
   "outputs": [
    {
     "name": "stdout",
     "output_type": "stream",
     "text": [
      "1 - 2 venues were returned by Foursquare for neighborhood Parkwoods.\n",
      "2 - 5 venues were returned by Foursquare for neighborhood Victoria Village.\n",
      "3 - 46 venues were returned by Foursquare for neighborhood Regent Park, Harbourfront.\n",
      "4 - 13 venues were returned by Foursquare for neighborhood Lawrence Manor, Lawrence Heights.\n",
      "5 - 36 venues were returned by Foursquare for neighborhood Queen's Park, Ontario Provincial Government.\n",
      "6 - 2 venues were returned by Foursquare for neighborhood Malvern, Rouge.\n",
      "7 - 5 venues were returned by Foursquare for neighborhood Don Mills.\n",
      "8 - 10 venues were returned by Foursquare for neighborhood Parkview Hill, Woodbine Gardens.\n",
      "9 - 100 venues were returned by Foursquare for neighborhood Garden District, Ryerson.\n",
      "10 - 4 venues were returned by Foursquare for neighborhood Glencairn.\n",
      "11 - 2 venues were returned by Foursquare for neighborhood Rouge Hill, Port Union, Highland Creek.\n",
      "12 - 22 venues were returned by Foursquare for neighborhood Don Mills.\n",
      "13 - 9 venues were returned by Foursquare for neighborhood Woodbine Heights.\n",
      "14 - 77 venues were returned by Foursquare for neighborhood St. James Town.\n",
      "15 - 4 venues were returned by Foursquare for neighborhood Humewood-Cedarvale.\n",
      "16 - 8 venues were returned by Foursquare for neighborhood Eringate, Bloordale Gardens, Old Burnhamthorpe, Markland Wood.\n",
      "17 - 8 venues were returned by Foursquare for neighborhood Guildwood, Morningside, West Hill.\n",
      "18 - 4 venues were returned by Foursquare for neighborhood The Beaches.\n",
      "19 - 54 venues were returned by Foursquare for neighborhood Berczy Park.\n",
      "20 - 4 venues were returned by Foursquare for neighborhood Caledonia-Fairbanks.\n",
      "21 - 4 venues were returned by Foursquare for neighborhood Woburn.\n",
      "22 - 33 venues were returned by Foursquare for neighborhood Leaside.\n",
      "23 - 65 venues were returned by Foursquare for neighborhood Central Bay Street.\n",
      "24 - 17 venues were returned by Foursquare for neighborhood Christie.\n",
      "25 - 8 venues were returned by Foursquare for neighborhood Cedarbrae.\n",
      "26 - 4 venues were returned by Foursquare for neighborhood Hillcrest Village.\n",
      "27 - 21 venues were returned by Foursquare for neighborhood Bathurst Manor, Wilson Heights, Downsview North.\n",
      "28 - 22 venues were returned by Foursquare for neighborhood Thorncliffe Park.\n",
      "29 - 92 venues were returned by Foursquare for neighborhood Richmond, Adelaide, King.\n",
      "30 - 17 venues were returned by Foursquare for neighborhood Dufferin, Dovercourt Village.\n",
      "31 - 2 venues were returned by Foursquare for neighborhood Scarborough Village.\n",
      "32 - 67 venues were returned by Foursquare for neighborhood Fairview, Henry Farm, Oriole.\n",
      "33 - 7 venues were returned by Foursquare for neighborhood Northwood Park, York University.\n",
      "34 - 4 venues were returned by Foursquare for neighborhood East Toronto.\n",
      "35 - 100 venues were returned by Foursquare for neighborhood Harbourfront East, Union Station, Toronto Islands.\n",
      "36 - 43 venues were returned by Foursquare for neighborhood Little Portugal, Trinity.\n",
      "37 - 8 venues were returned by Foursquare for neighborhood Kennedy Park, Ionview, East Birchmount Park.\n",
      "38 - 4 venues were returned by Foursquare for neighborhood Bayview Village.\n",
      "39 - 5 venues were returned by Foursquare for neighborhood Downsview.\n",
      "40 - 42 venues were returned by Foursquare for neighborhood The Danforth West, Riverdale.\n",
      "41 - 100 venues were returned by Foursquare for neighborhood Toronto Dominion Centre, Design Exchange.\n",
      "42 - 23 venues were returned by Foursquare for neighborhood Brockton, Parkdale Village, Exhibition Place.\n",
      "43 - 10 venues were returned by Foursquare for neighborhood Golden Mile, Clairlea, Oakridge.\n",
      "44 - 6 venues were returned by Foursquare for neighborhood Downsview.\n",
      "45 - 19 venues were returned by Foursquare for neighborhood India Bazaar, The Beaches West.\n",
      "46 - 100 venues were returned by Foursquare for neighborhood Commerce Court, Victoria Hotel.\n",
      "47 - 4 venues were returned by Foursquare for neighborhood North Park, Maple Leaf Park, Upwood Park.\n",
      "48 - 2 venues were returned by Foursquare for neighborhood Humber Summit.\n",
      "49 - 3 venues were returned by Foursquare for neighborhood Cliffside, Cliffcrest, Scarborough Village West.\n",
      "50 - 4 venues were returned by Foursquare for neighborhood Downsview.\n",
      "51 - 40 venues were returned by Foursquare for neighborhood Studio District.\n",
      "52 - 24 venues were returned by Foursquare for neighborhood Bedford Park, Lawrence Manor East.\n",
      "53 - 4 venues were returned by Foursquare for neighborhood Del Ray, Mount Dennis, Keelsdale and Silverthorn.\n",
      "54 - 1 venues were returned by Foursquare for neighborhood Humberlea, Emery.\n",
      "55 - 5 venues were returned by Foursquare for neighborhood Birch Cliff, Cliffside West.\n",
      "56 - 32 venues were returned by Foursquare for neighborhood Willowdale.\n",
      "57 - 4 venues were returned by Foursquare for neighborhood Downsview.\n",
      "58 - 3 venues were returned by Foursquare for neighborhood Lawrence Park.\n",
      "59 - 2 venues were returned by Foursquare for neighborhood Roselawn.\n",
      "60 - 2 venues were returned by Foursquare for neighborhood Runnymede, The Junction North.\n",
      "61 - 1 venues were returned by Foursquare for neighborhood Weston.\n",
      "62 - 5 venues were returned by Foursquare for neighborhood Dorset Park, Wexford Heights, Scarborough Town Centre.\n",
      "63 - 4 venues were returned by Foursquare for neighborhood York Mills West.\n",
      "64 - 7 venues were returned by Foursquare for neighborhood Davisville North.\n",
      "65 - 4 venues were returned by Foursquare for neighborhood Forest Hill North & West.\n",
      "66 - 24 venues were returned by Foursquare for neighborhood High Park, The Junction South.\n",
      "67 - 7 venues were returned by Foursquare for neighborhood Westmount.\n",
      "68 - 4 venues were returned by Foursquare for neighborhood Wexford, Maryvale.\n",
      "69 - 5 venues were returned by Foursquare for neighborhood Willowdale.\n",
      "70 - 22 venues were returned by Foursquare for neighborhood North Toronto West.\n",
      "71 - 24 venues were returned by Foursquare for neighborhood The Annex, North Midtown, Yorkville.\n",
      "72 - 14 venues were returned by Foursquare for neighborhood Parkdale, Roncesvalles.\n",
      "73 - 12 venues were returned by Foursquare for neighborhood Canada Post Gateway Processing Centre.\n",
      "74 - 3 venues were returned by Foursquare for neighborhood Kingsview Village, St. Phillips, Martin Grove Gardens, Richview Gardens.\n",
      "75 - 4 venues were returned by Foursquare for neighborhood Agincourt.\n",
      "76 - 38 venues were returned by Foursquare for neighborhood Davisville.\n",
      "77 - 36 venues were returned by Foursquare for neighborhood University of Toronto, Harbord.\n",
      "78 - 38 venues were returned by Foursquare for neighborhood Runnymede, Swansea.\n",
      "79 - 14 venues were returned by Foursquare for neighborhood Clarks Corners, Tam O'Shanter, Sullivan.\n",
      "80 - 3 venues were returned by Foursquare for neighborhood Moore Park, Summerhill East.\n",
      "81 - 56 venues were returned by Foursquare for neighborhood Kensington Market, Chinatown, Grange Park.\n",
      "82 - 2 venues were returned by Foursquare for neighborhood Milliken, Agincourt North, Steeles East, L'Amoreaux East.\n",
      "83 - 16 venues were returned by Foursquare for neighborhood Summerhill West, Rathnelly, South Hill, Forest Hill SE, Deer Park.\n",
      "84 - 15 venues were returned by Foursquare for neighborhood CN Tower, King and Spadina, Railway Lands, Harbourfront West, Bathurst Quay, South Niagara, Island airport.\n",
      "85 - 13 venues were returned by Foursquare for neighborhood New Toronto, Mimico South, Humber Bay Shores.\n",
      "86 - 9 venues were returned by Foursquare for neighborhood South Steeles, Silverstone, Humbergate, Jamestown, Mount Olive, Beaumond Heights, Thistletown, Albion Gardens.\n",
      "87 - 14 venues were returned by Foursquare for neighborhood Steeles West, L'Amoreaux West.\n",
      "88 - 4 venues were returned by Foursquare for neighborhood Rosedale.\n",
      "89 - 93 venues were returned by Foursquare for neighborhood Stn A PO Boxes.\n",
      "90 - 8 venues were returned by Foursquare for neighborhood Alderwood, Long Branch.\n",
      "91 - 3 venues were returned by Foursquare for neighborhood Northwest.\n",
      "92 - 45 venues were returned by Foursquare for neighborhood St. James Town, Cabbagetown.\n",
      "93 - 100 venues were returned by Foursquare for neighborhood First Canadian Place, Underground city.\n",
      "94 - 3 venues were returned by Foursquare for neighborhood The Kingsway, Montgomery Road, Old Mill North.\n",
      "95 - 77 venues were returned by Foursquare for neighborhood Church and Wellesley.\n",
      "96 - 17 venues were returned by Foursquare for neighborhood Business reply mail Processing Centre.\n",
      "97 - 2 venues were returned by Foursquare for neighborhood Old Mill South, King's Mill Park, Sunnylea, Humber Bay, Mimico NE, The Queensway East, Royal York South East, Kingsway Park South East.\n",
      "98 - 14 venues were returned by Foursquare for neighborhood Mimico NW, The Queensway West, South of Bloor, Kingsway Park South West, Royal York South West.\n"
     ]
    }
   ],
   "source": [
    "count = 0\n",
    "toronto_venues = []\n",
    "for i in range(df_table.shape[0]):\n",
    "    neighborhood_latitude = df_table.loc[i, 'Latitude'] # neighborhood latitude value\n",
    "    neighborhood_longitude = df_table.loc[i, 'Longitude'] # neighborhood longitude value\n",
    "    neighborhood_name = df_table.loc[i, 'Neighborhood'] # neighborhood name\n",
    "    \n",
    "    url = 'https://api.foursquare.com/v2/venues/explore?&client_id={}&client_secret={}&v={}&ll={},{}&radius={}&limit={}'.format(\n",
    "    CLIENT_ID, \n",
    "    CLIENT_SECRET, \n",
    "    VERSION, \n",
    "    neighborhood_latitude, \n",
    "    neighborhood_longitude, \n",
    "    radius, \n",
    "    LIMIT)\n",
    "    \n",
    "    results = requests.get(url).json()\n",
    "    venues = results['response']['groups'][0]['items']\n",
    "    nearby_venues = pd.json_normalize(venues)\n",
    "    try:\n",
    "        filtered_columns = ['venue.name', 'venue.categories', 'venue.location.lat', 'venue.location.lng']\n",
    "        nearby_venues =nearby_venues.loc[:, filtered_columns]\n",
    "        nearby_venues['venue.categories'] = nearby_venues.apply(get_category_type, axis=1)\n",
    "        nearby_venues.columns = [col.split(\".\")[-1] for col in nearby_venues.columns]\n",
    "        # print(nearby_venues.head(1))   //for printing venues\n",
    "        count+=1\n",
    "        print('{} - {} venues were returned by Foursquare for neighborhood {}.'.format(count,nearby_venues.shape[0],neighborhood_name))\n",
    "    except:\n",
    "        pass"
   ]
  },
  {
   "cell_type": "code",
   "execution_count": null,
   "metadata": {},
   "outputs": [],
   "source": []
  }
 ],
 "metadata": {
  "kernelspec": {
   "display_name": "Python 3",
   "language": "python",
   "name": "python3"
  },
  "language_info": {
   "codemirror_mode": {
    "name": "ipython",
    "version": 3
   },
   "file_extension": ".py",
   "mimetype": "text/x-python",
   "name": "python",
   "nbconvert_exporter": "python",
   "pygments_lexer": "ipython3",
   "version": "3.7.4"
  }
 },
 "nbformat": 4,
 "nbformat_minor": 2
}
