{
 "cells": [
  {
   "cell_type": "markdown",
   "metadata": {},
   "source": [
    "## The Battle of the Neighborhoods - Week 1"
   ]
  },
  {
   "cell_type": "markdown",
   "metadata": {},
   "source": [
    "### Introduction & Business Problem :"
   ]
  },
  {
   "cell_type": "markdown",
   "metadata": {},
   "source": [
    "#### Problem Background:"
   ]
  },
  {
   "cell_type": "markdown",
   "metadata": {},
   "source": [
    "The idea that I have chosen for this final assignment is of finding a suitable location where we can open a a prticular type of shop/mall or anything for having less competition and more benefits and profits."
   ]
  },
  {
   "cell_type": "markdown",
   "metadata": {},
   "source": [
    "For example someone wants to open a shop for something like coffee, then this project will give him the idea where he should open the cafe for having larger benefitys and less competition. \n",
    "\n",
    "Ans also if someone want to open a shop of something at predecided place, then with this project he/she can explore the neighborhoods and he can start a business on something that is not there in that neighborhood  or for something that may have a larger profit due to less competition."
   ]
  },
  {
   "cell_type": "markdown",
   "metadata": {},
   "source": [
    "So for this project we will work on the area 'New York' as we already have the data that we need."
   ]
  },
  {
   "cell_type": "code",
   "execution_count": null,
   "metadata": {},
   "outputs": [],
   "source": []
  }
 ],
 "metadata": {
  "kernelspec": {
   "display_name": "Python 3",
   "language": "python",
   "name": "python3"
  },
  "language_info": {
   "codemirror_mode": {
    "name": "ipython",
    "version": 3
   },
   "file_extension": ".py",
   "mimetype": "text/x-python",
   "name": "python",
   "nbconvert_exporter": "python",
   "pygments_lexer": "ipython3",
   "version": "3.7.4"
  }
 },
 "nbformat": 4,
 "nbformat_minor": 2
}
